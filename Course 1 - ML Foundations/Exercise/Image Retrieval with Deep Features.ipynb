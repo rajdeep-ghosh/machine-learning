{
 "cells": [
  {
   "cell_type": "markdown",
   "metadata": {},
   "source": [
    "# Launch TuriCreate"
   ]
  },
  {
   "cell_type": "code",
   "execution_count": 1,
   "metadata": {},
   "outputs": [],
   "source": [
    "import turicreate as tc"
   ]
  },
  {
   "cell_type": "markdown",
   "metadata": {},
   "source": [
    "# Load image dataset"
   ]
  },
  {
   "cell_type": "code",
   "execution_count": 2,
   "metadata": {},
   "outputs": [],
   "source": [
    "image_train = tc.SFrame('image_train_data/')"
   ]
  },
  {
   "cell_type": "markdown",
   "metadata": {},
   "source": [
    "## Explore data"
   ]
  },
  {
   "cell_type": "code",
   "execution_count": 3,
   "metadata": {},
   "outputs": [
    {
     "data": {
      "text/html": [
       "<div style=\"max-height:1000px;max-width:1500px;overflow:auto;\"><table frame=\"box\" rules=\"cols\">\n",
       "    <tr>\n",
       "        <th style=\"padding-left: 1em; padding-right: 1em; text-align: center\">id</th>\n",
       "        <th style=\"padding-left: 1em; padding-right: 1em; text-align: center\">image</th>\n",
       "        <th style=\"padding-left: 1em; padding-right: 1em; text-align: center\">label</th>\n",
       "        <th style=\"padding-left: 1em; padding-right: 1em; text-align: center\">deep_features</th>\n",
       "        <th style=\"padding-left: 1em; padding-right: 1em; text-align: center\">image_array</th>\n",
       "    </tr>\n",
       "    <tr>\n",
       "        <td style=\"padding-left: 1em; padding-right: 1em; text-align: center; vertical-align: top\">24</td>\n",
       "        <td style=\"padding-left: 1em; padding-right: 1em; text-align: center; vertical-align: top\">Height: 32 Width: 32</td>\n",
       "        <td style=\"padding-left: 1em; padding-right: 1em; text-align: center; vertical-align: top\">bird</td>\n",
       "        <td style=\"padding-left: 1em; padding-right: 1em; text-align: center; vertical-align: top\">[0.24287176132202148,<br>1.0954537391662598, 0.0, ...</td>\n",
       "        <td style=\"padding-left: 1em; padding-right: 1em; text-align: center; vertical-align: top\">[73.0, 77.0, 58.0, 71.0,<br>68.0, 50.0, 77.0, 69.0, ...</td>\n",
       "    </tr>\n",
       "    <tr>\n",
       "        <td style=\"padding-left: 1em; padding-right: 1em; text-align: center; vertical-align: top\">33</td>\n",
       "        <td style=\"padding-left: 1em; padding-right: 1em; text-align: center; vertical-align: top\">Height: 32 Width: 32</td>\n",
       "        <td style=\"padding-left: 1em; padding-right: 1em; text-align: center; vertical-align: top\">cat</td>\n",
       "        <td style=\"padding-left: 1em; padding-right: 1em; text-align: center; vertical-align: top\">[0.5250879526138306, 0.0,<br>0.0, 0.0, 0.0, 0.0, ...</td>\n",
       "        <td style=\"padding-left: 1em; padding-right: 1em; text-align: center; vertical-align: top\">[7.0, 5.0, 8.0, 7.0, 5.0,<br>8.0, 5.0, 4.0, 6.0, 7.0, ...</td>\n",
       "    </tr>\n",
       "    <tr>\n",
       "        <td style=\"padding-left: 1em; padding-right: 1em; text-align: center; vertical-align: top\">36</td>\n",
       "        <td style=\"padding-left: 1em; padding-right: 1em; text-align: center; vertical-align: top\">Height: 32 Width: 32</td>\n",
       "        <td style=\"padding-left: 1em; padding-right: 1em; text-align: center; vertical-align: top\">cat</td>\n",
       "        <td style=\"padding-left: 1em; padding-right: 1em; text-align: center; vertical-align: top\">[0.5660159587860107, 0.0,<br>0.0, 0.0, 0.0, 0.0, ...</td>\n",
       "        <td style=\"padding-left: 1em; padding-right: 1em; text-align: center; vertical-align: top\">[169.0, 122.0, 65.0,<br>131.0, 108.0, 75.0, ...</td>\n",
       "    </tr>\n",
       "    <tr>\n",
       "        <td style=\"padding-left: 1em; padding-right: 1em; text-align: center; vertical-align: top\">70</td>\n",
       "        <td style=\"padding-left: 1em; padding-right: 1em; text-align: center; vertical-align: top\">Height: 32 Width: 32</td>\n",
       "        <td style=\"padding-left: 1em; padding-right: 1em; text-align: center; vertical-align: top\">dog</td>\n",
       "        <td style=\"padding-left: 1em; padding-right: 1em; text-align: center; vertical-align: top\">[1.129795789718628, 0.0,<br>0.0, 0.7781944870948792, ...</td>\n",
       "        <td style=\"padding-left: 1em; padding-right: 1em; text-align: center; vertical-align: top\">[154.0, 179.0, 152.0,<br>159.0, 183.0, 157.0, ...</td>\n",
       "    </tr>\n",
       "    <tr>\n",
       "        <td style=\"padding-left: 1em; padding-right: 1em; text-align: center; vertical-align: top\">90</td>\n",
       "        <td style=\"padding-left: 1em; padding-right: 1em; text-align: center; vertical-align: top\">Height: 32 Width: 32</td>\n",
       "        <td style=\"padding-left: 1em; padding-right: 1em; text-align: center; vertical-align: top\">bird</td>\n",
       "        <td style=\"padding-left: 1em; padding-right: 1em; text-align: center; vertical-align: top\">[1.7178692817687988, 0.0,<br>0.0, 0.0, 0.0, 0.0, ...</td>\n",
       "        <td style=\"padding-left: 1em; padding-right: 1em; text-align: center; vertical-align: top\">[216.0, 195.0, 180.0,<br>201.0, 178.0, 160.0, ...</td>\n",
       "    </tr>\n",
       "    <tr>\n",
       "        <td style=\"padding-left: 1em; padding-right: 1em; text-align: center; vertical-align: top\">97</td>\n",
       "        <td style=\"padding-left: 1em; padding-right: 1em; text-align: center; vertical-align: top\">Height: 32 Width: 32</td>\n",
       "        <td style=\"padding-left: 1em; padding-right: 1em; text-align: center; vertical-align: top\">automobile</td>\n",
       "        <td style=\"padding-left: 1em; padding-right: 1em; text-align: center; vertical-align: top\">[1.5781855583190918, 0.0,<br>0.0, 0.0, 0.0, 0.0, ...</td>\n",
       "        <td style=\"padding-left: 1em; padding-right: 1em; text-align: center; vertical-align: top\">[33.0, 44.0, 27.0, 29.0,<br>44.0, 31.0, 32.0, 45.0, ...</td>\n",
       "    </tr>\n",
       "    <tr>\n",
       "        <td style=\"padding-left: 1em; padding-right: 1em; text-align: center; vertical-align: top\">107</td>\n",
       "        <td style=\"padding-left: 1em; padding-right: 1em; text-align: center; vertical-align: top\">Height: 32 Width: 32</td>\n",
       "        <td style=\"padding-left: 1em; padding-right: 1em; text-align: center; vertical-align: top\">dog</td>\n",
       "        <td style=\"padding-left: 1em; padding-right: 1em; text-align: center; vertical-align: top\">[0.0, 0.0,<br>0.22067785263061523,  ...</td>\n",
       "        <td style=\"padding-left: 1em; padding-right: 1em; text-align: center; vertical-align: top\">[97.0, 51.0, 31.0, 104.0,<br>58.0, 38.0, 107.0, 61.0, ...</td>\n",
       "    </tr>\n",
       "    <tr>\n",
       "        <td style=\"padding-left: 1em; padding-right: 1em; text-align: center; vertical-align: top\">121</td>\n",
       "        <td style=\"padding-left: 1em; padding-right: 1em; text-align: center; vertical-align: top\">Height: 32 Width: 32</td>\n",
       "        <td style=\"padding-left: 1em; padding-right: 1em; text-align: center; vertical-align: top\">bird</td>\n",
       "        <td style=\"padding-left: 1em; padding-right: 1em; text-align: center; vertical-align: top\">[0.0,<br>0.23753464221954346,  ...</td>\n",
       "        <td style=\"padding-left: 1em; padding-right: 1em; text-align: center; vertical-align: top\">[93.0, 96.0, 88.0, 102.0,<br>106.0, 97.0, 117.0, ...</td>\n",
       "    </tr>\n",
       "    <tr>\n",
       "        <td style=\"padding-left: 1em; padding-right: 1em; text-align: center; vertical-align: top\">136</td>\n",
       "        <td style=\"padding-left: 1em; padding-right: 1em; text-align: center; vertical-align: top\">Height: 32 Width: 32</td>\n",
       "        <td style=\"padding-left: 1em; padding-right: 1em; text-align: center; vertical-align: top\">automobile</td>\n",
       "        <td style=\"padding-left: 1em; padding-right: 1em; text-align: center; vertical-align: top\">[0.0, 0.0, 0.0, 0.0, 0.0,<br>0.0, 7.57378625869751, ...</td>\n",
       "        <td style=\"padding-left: 1em; padding-right: 1em; text-align: center; vertical-align: top\">[35.0, 59.0, 53.0, 36.0,<br>56.0, 56.0, 42.0, 62.0, ...</td>\n",
       "    </tr>\n",
       "    <tr>\n",
       "        <td style=\"padding-left: 1em; padding-right: 1em; text-align: center; vertical-align: top\">138</td>\n",
       "        <td style=\"padding-left: 1em; padding-right: 1em; text-align: center; vertical-align: top\">Height: 32 Width: 32</td>\n",
       "        <td style=\"padding-left: 1em; padding-right: 1em; text-align: center; vertical-align: top\">bird</td>\n",
       "        <td style=\"padding-left: 1em; padding-right: 1em; text-align: center; vertical-align: top\">[0.6589357256889343, 0.0,<br>0.0, 0.0, 0.0, 0.0, ...</td>\n",
       "        <td style=\"padding-left: 1em; padding-right: 1em; text-align: center; vertical-align: top\">[205.0, 193.0, 195.0,<br>200.0, 187.0, 193.0, ...</td>\n",
       "    </tr>\n",
       "</table>\n",
       "[2005 rows x 5 columns]<br/>Note: Only the head of the SFrame is printed.<br/>You can use print_rows(num_rows=m, num_columns=n) to print more rows and columns.\n",
       "</div>"
      ],
      "text/plain": [
       "Columns:\n",
       "\tid\tint\n",
       "\timage\tImage\n",
       "\tlabel\tstr\n",
       "\tdeep_features\tarray\n",
       "\timage_array\tarray\n",
       "\n",
       "Rows: 2005\n",
       "\n",
       "Data:\n",
       "+-----+----------------------+------------+-------------------------------+\n",
       "|  id |        image         |   label    |         deep_features         |\n",
       "+-----+----------------------+------------+-------------------------------+\n",
       "|  24 | Height: 32 Width: 32 |    bird    | [0.24287176132202148, 1.09... |\n",
       "|  33 | Height: 32 Width: 32 |    cat     | [0.5250879526138306, 0.0, ... |\n",
       "|  36 | Height: 32 Width: 32 |    cat     | [0.5660159587860107, 0.0, ... |\n",
       "|  70 | Height: 32 Width: 32 |    dog     | [1.129795789718628, 0.0, 0... |\n",
       "|  90 | Height: 32 Width: 32 |    bird    | [1.7178692817687988, 0.0, ... |\n",
       "|  97 | Height: 32 Width: 32 | automobile | [1.5781855583190918, 0.0, ... |\n",
       "| 107 | Height: 32 Width: 32 |    dog     | [0.0, 0.0, 0.2206778526306... |\n",
       "| 121 | Height: 32 Width: 32 |    bird    | [0.0, 0.23753464221954346,... |\n",
       "| 136 | Height: 32 Width: 32 | automobile | [0.0, 0.0, 0.0, 0.0, 0.0, ... |\n",
       "| 138 | Height: 32 Width: 32 |    bird    | [0.6589357256889343, 0.0, ... |\n",
       "+-----+----------------------+------------+-------------------------------+\n",
       "+-------------------------------+\n",
       "|          image_array          |\n",
       "+-------------------------------+\n",
       "| [73.0, 77.0, 58.0, 71.0, 6... |\n",
       "| [7.0, 5.0, 8.0, 7.0, 5.0, ... |\n",
       "| [169.0, 122.0, 65.0, 131.0... |\n",
       "| [154.0, 179.0, 152.0, 159.... |\n",
       "| [216.0, 195.0, 180.0, 201.... |\n",
       "| [33.0, 44.0, 27.0, 29.0, 4... |\n",
       "| [97.0, 51.0, 31.0, 104.0, ... |\n",
       "| [93.0, 96.0, 88.0, 102.0, ... |\n",
       "| [35.0, 59.0, 53.0, 36.0, 5... |\n",
       "| [205.0, 193.0, 195.0, 200.... |\n",
       "+-------------------------------+\n",
       "[2005 rows x 5 columns]\n",
       "Note: Only the head of the SFrame is printed.\n",
       "You can use print_rows(num_rows=m, num_columns=n) to print more rows and columns."
      ]
     },
     "execution_count": 3,
     "metadata": {},
     "output_type": "execute_result"
    }
   ],
   "source": [
    "image_train"
   ]
  },
  {
   "cell_type": "markdown",
   "metadata": {},
   "source": [
    "# Compute deep features from our images (Pre-computed)"
   ]
  },
  {
   "cell_type": "code",
   "execution_count": 4,
   "metadata": {},
   "outputs": [],
   "source": [
    "# deep_learning_model = tc.load_model('imagenet_model_iter45')\n",
    "# image_train['deep_features'] = deep_learning_model.extract_features(image_train)"
   ]
  },
  {
   "cell_type": "markdown",
   "metadata": {},
   "source": [
    "# Create a nearest neighbors model to retrive images from deep features"
   ]
  },
  {
   "cell_type": "code",
   "execution_count": 5,
   "metadata": {},
   "outputs": [
    {
     "data": {
      "text/html": [
       "<pre>Starting brute force nearest neighbors model training.</pre>"
      ],
      "text/plain": [
       "Starting brute force nearest neighbors model training."
      ]
     },
     "metadata": {},
     "output_type": "display_data"
    },
    {
     "data": {
      "text/html": [
       "<pre>Validating distance components.</pre>"
      ],
      "text/plain": [
       "Validating distance components."
      ]
     },
     "metadata": {},
     "output_type": "display_data"
    },
    {
     "data": {
      "text/html": [
       "<pre>Initializing model data.</pre>"
      ],
      "text/plain": [
       "Initializing model data."
      ]
     },
     "metadata": {},
     "output_type": "display_data"
    },
    {
     "data": {
      "text/html": [
       "<pre>Initializing distances.</pre>"
      ],
      "text/plain": [
       "Initializing distances."
      ]
     },
     "metadata": {},
     "output_type": "display_data"
    },
    {
     "data": {
      "text/html": [
       "<pre>Done.</pre>"
      ],
      "text/plain": [
       "Done."
      ]
     },
     "metadata": {},
     "output_type": "display_data"
    }
   ],
   "source": [
    "knn_model = tc.nearest_neighbors.create(image_train, features=['deep_features'], label='id')"
   ]
  },
  {
   "cell_type": "markdown",
   "metadata": {},
   "source": [
    "# Use image retrieval model with deep features to find similar images"
   ]
  },
  {
   "cell_type": "code",
   "execution_count": 7,
   "metadata": {},
   "outputs": [],
   "source": [
    "cat = image_train[18:19]"
   ]
  },
  {
   "cell_type": "code",
   "execution_count": 10,
   "metadata": {},
   "outputs": [
    {
     "data": {
      "text/html": [
       "<html lang=\"en\">                                                     <head>                                                               <style>                                                              .sframe {                                                            font-size: 12px;                                                   font-family: HelveticaNeue;                                        border: 1px solid silver;                                        }                                                                  .sframe thead th {                                                   background: #F7F7F7;                                               font-family: HelveticaNeue-Medium;                                 font-size: 14px;                                                   line-height: 16.8px;                                               padding-top: 16px;                                                 padding-bottom: 16px;                                              padding-left: 10px;                                                padding-right: 38px;                                               border-top: 1px solid #E9E9E9;                                     border-bottom: 1px solid #E9E9E9;                                  white-space: nowrap;                                               overflow: hidden;                                                  text-overflow:ellipsis;                                            text-align:center;                                                 font-weight:normal;                                              }                                                                  .sframe tbody th {                                                   background: #FFFFFF;                                               text-align:left;                                                   font-weight:normal;                                                border-right: 1px solid #E9E9E9;                                 }                                                                  .sframe td {                                                         background: #FFFFFF;                                               padding-left: 10px;                                                padding-right: 38px;                                               padding-top: 14px;                                                 padding-bottom: 14px;                                              border-bottom: 1px solid #E9E9E9;                                  max-height: 0px;                                                   transition: max-height 5s ease-out;                                vertical-align: middle;                                            font-family: HelveticaNeue;                                        font-size: 12px;                                                   line-height: 16.8px;                                               background: #FFFFFF;                                             }                                                                  .sframe tr {                                                         padding-left: 10px;                                                padding-right: 38px;                                               padding-top: 14px;                                                 padding-bottom: 14px;                                              border-bottom: 1px solid #E9E9E9;                                  max-height: 0px;                                                   transition: max-height 5s ease-out;                                vertical-align: middle;                                            font-family: HelveticaNeue;                                        font-size: 12px;                                                   line-height: 16.8px;                                               background: #FFFFFF;                                             }                                                                  .sframe tr:hover {                                                   background: silver;                                              },                                                               </style>                                                         </head>                                                            <body>                                                               <h1>  </h1>                                             <table border=\"1\" class=\"dataframe sframe\">\n",
       "  <thead>\n",
       "    <tr style=\"text-align: right;\">\n",
       "      <th></th>\n",
       "      <th>SArray</th>\n",
       "    </tr>\n",
       "  </thead>\n",
       "  <tbody>\n",
       "    <tr>\n",
       "      <th>0</th>\n",
       "      <td><img src=\"data:image/png;base64,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\"/></td>\n",
       "    </tr>\n",
       "  </tbody>\n",
       "</table>                          </body>                                                          </html>"
      ],
      "text/plain": [
       "<IPython.core.display.HTML object>"
      ]
     },
     "metadata": {},
     "output_type": "display_data"
    }
   ],
   "source": [
    "cat['image'].explore()"
   ]
  },
  {
   "cell_type": "code",
   "execution_count": 11,
   "metadata": {},
   "outputs": [
    {
     "data": {
      "text/html": [
       "<pre>Starting pairwise querying.</pre>"
      ],
      "text/plain": [
       "Starting pairwise querying."
      ]
     },
     "metadata": {},
     "output_type": "display_data"
    },
    {
     "data": {
      "text/html": [
       "<pre>+--------------+---------+-------------+--------------+</pre>"
      ],
      "text/plain": [
       "+--------------+---------+-------------+--------------+"
      ]
     },
     "metadata": {},
     "output_type": "display_data"
    },
    {
     "data": {
      "text/html": [
       "<pre>| Query points | # Pairs | % Complete. | Elapsed Time |</pre>"
      ],
      "text/plain": [
       "| Query points | # Pairs | % Complete. | Elapsed Time |"
      ]
     },
     "metadata": {},
     "output_type": "display_data"
    },
    {
     "data": {
      "text/html": [
       "<pre>+--------------+---------+-------------+--------------+</pre>"
      ],
      "text/plain": [
       "+--------------+---------+-------------+--------------+"
      ]
     },
     "metadata": {},
     "output_type": "display_data"
    },
    {
     "data": {
      "text/html": [
       "<pre>| 0            | 2       | 0.0997506   | 25.491ms     |</pre>"
      ],
      "text/plain": [
       "| 0            | 2       | 0.0997506   | 25.491ms     |"
      ]
     },
     "metadata": {},
     "output_type": "display_data"
    },
    {
     "data": {
      "text/html": [
       "<pre>| Done         |         | 100         | 98.897ms     |</pre>"
      ],
      "text/plain": [
       "| Done         |         | 100         | 98.897ms     |"
      ]
     },
     "metadata": {},
     "output_type": "display_data"
    },
    {
     "data": {
      "text/html": [
       "<pre>+--------------+---------+-------------+--------------+</pre>"
      ],
      "text/plain": [
       "+--------------+---------+-------------+--------------+"
      ]
     },
     "metadata": {},
     "output_type": "display_data"
    },
    {
     "data": {
      "text/html": [
       "<div style=\"max-height:1000px;max-width:1500px;overflow:auto;\"><table frame=\"box\" rules=\"cols\">\n",
       "    <tr>\n",
       "        <th style=\"padding-left: 1em; padding-right: 1em; text-align: center\">query_label</th>\n",
       "        <th style=\"padding-left: 1em; padding-right: 1em; text-align: center\">reference_label</th>\n",
       "        <th style=\"padding-left: 1em; padding-right: 1em; text-align: center\">distance</th>\n",
       "        <th style=\"padding-left: 1em; padding-right: 1em; text-align: center\">rank</th>\n",
       "    </tr>\n",
       "    <tr>\n",
       "        <td style=\"padding-left: 1em; padding-right: 1em; text-align: center; vertical-align: top\">0</td>\n",
       "        <td style=\"padding-left: 1em; padding-right: 1em; text-align: center; vertical-align: top\">384</td>\n",
       "        <td style=\"padding-left: 1em; padding-right: 1em; text-align: center; vertical-align: top\">0.0</td>\n",
       "        <td style=\"padding-left: 1em; padding-right: 1em; text-align: center; vertical-align: top\">1</td>\n",
       "    </tr>\n",
       "    <tr>\n",
       "        <td style=\"padding-left: 1em; padding-right: 1em; text-align: center; vertical-align: top\">0</td>\n",
       "        <td style=\"padding-left: 1em; padding-right: 1em; text-align: center; vertical-align: top\">6910</td>\n",
       "        <td style=\"padding-left: 1em; padding-right: 1em; text-align: center; vertical-align: top\">36.94031379506751</td>\n",
       "        <td style=\"padding-left: 1em; padding-right: 1em; text-align: center; vertical-align: top\">2</td>\n",
       "    </tr>\n",
       "    <tr>\n",
       "        <td style=\"padding-left: 1em; padding-right: 1em; text-align: center; vertical-align: top\">0</td>\n",
       "        <td style=\"padding-left: 1em; padding-right: 1em; text-align: center; vertical-align: top\">39777</td>\n",
       "        <td style=\"padding-left: 1em; padding-right: 1em; text-align: center; vertical-align: top\">38.46348889747021</td>\n",
       "        <td style=\"padding-left: 1em; padding-right: 1em; text-align: center; vertical-align: top\">3</td>\n",
       "    </tr>\n",
       "    <tr>\n",
       "        <td style=\"padding-left: 1em; padding-right: 1em; text-align: center; vertical-align: top\">0</td>\n",
       "        <td style=\"padding-left: 1em; padding-right: 1em; text-align: center; vertical-align: top\">36870</td>\n",
       "        <td style=\"padding-left: 1em; padding-right: 1em; text-align: center; vertical-align: top\">39.75596231189652</td>\n",
       "        <td style=\"padding-left: 1em; padding-right: 1em; text-align: center; vertical-align: top\">4</td>\n",
       "    </tr>\n",
       "    <tr>\n",
       "        <td style=\"padding-left: 1em; padding-right: 1em; text-align: center; vertical-align: top\">0</td>\n",
       "        <td style=\"padding-left: 1em; padding-right: 1em; text-align: center; vertical-align: top\">41734</td>\n",
       "        <td style=\"padding-left: 1em; padding-right: 1em; text-align: center; vertical-align: top\">39.786601414815024</td>\n",
       "        <td style=\"padding-left: 1em; padding-right: 1em; text-align: center; vertical-align: top\">5</td>\n",
       "    </tr>\n",
       "</table>\n",
       "[5 rows x 4 columns]<br/>\n",
       "</div>"
      ],
      "text/plain": [
       "Columns:\n",
       "\tquery_label\tint\n",
       "\treference_label\tint\n",
       "\tdistance\tfloat\n",
       "\trank\tint\n",
       "\n",
       "Rows: 5\n",
       "\n",
       "Data:\n",
       "+-------------+-----------------+--------------------+------+\n",
       "| query_label | reference_label |      distance      | rank |\n",
       "+-------------+-----------------+--------------------+------+\n",
       "|      0      |       384       |        0.0         |  1   |\n",
       "|      0      |       6910      | 36.94031379506751  |  2   |\n",
       "|      0      |      39777      | 38.46348889747021  |  3   |\n",
       "|      0      |      36870      | 39.75596231189652  |  4   |\n",
       "|      0      |      41734      | 39.786601414815024 |  5   |\n",
       "+-------------+-----------------+--------------------+------+\n",
       "[5 rows x 4 columns]"
      ]
     },
     "execution_count": 11,
     "metadata": {},
     "output_type": "execute_result"
    }
   ],
   "source": [
    "knn_model.query(cat)"
   ]
  },
  {
   "cell_type": "markdown",
   "metadata": {},
   "source": [
    "# Find similar cat images\n"
   ]
  },
  {
   "cell_type": "code",
   "execution_count": 14,
   "metadata": {},
   "outputs": [],
   "source": [
    "def get_images_from_ids(query):\n",
    "    return image_train.filter_by(query['reference_label'],'id')"
   ]
  },
  {
   "cell_type": "code",
   "execution_count": 15,
   "metadata": {},
   "outputs": [
    {
     "data": {
      "text/html": [
       "<pre>Starting pairwise querying.</pre>"
      ],
      "text/plain": [
       "Starting pairwise querying."
      ]
     },
     "metadata": {},
     "output_type": "display_data"
    },
    {
     "data": {
      "text/html": [
       "<pre>+--------------+---------+-------------+--------------+</pre>"
      ],
      "text/plain": [
       "+--------------+---------+-------------+--------------+"
      ]
     },
     "metadata": {},
     "output_type": "display_data"
    },
    {
     "data": {
      "text/html": [
       "<pre>| Query points | # Pairs | % Complete. | Elapsed Time |</pre>"
      ],
      "text/plain": [
       "| Query points | # Pairs | % Complete. | Elapsed Time |"
      ]
     },
     "metadata": {},
     "output_type": "display_data"
    },
    {
     "data": {
      "text/html": [
       "<pre>+--------------+---------+-------------+--------------+</pre>"
      ],
      "text/plain": [
       "+--------------+---------+-------------+--------------+"
      ]
     },
     "metadata": {},
     "output_type": "display_data"
    },
    {
     "data": {
      "text/html": [
       "<pre>| 0            | 1       | 0.0498753   | 13.455ms     |</pre>"
      ],
      "text/plain": [
       "| 0            | 1       | 0.0498753   | 13.455ms     |"
      ]
     },
     "metadata": {},
     "output_type": "display_data"
    },
    {
     "data": {
      "text/html": [
       "<pre>| Done         |         | 100         | 78.898ms     |</pre>"
      ],
      "text/plain": [
       "| Done         |         | 100         | 78.898ms     |"
      ]
     },
     "metadata": {},
     "output_type": "display_data"
    },
    {
     "data": {
      "text/html": [
       "<pre>+--------------+---------+-------------+--------------+</pre>"
      ],
      "text/plain": [
       "+--------------+---------+-------------+--------------+"
      ]
     },
     "metadata": {},
     "output_type": "display_data"
    }
   ],
   "source": [
    "cat_neighbors = get_images_from_ids(knn_model.query(cat))"
   ]
  },
  {
   "cell_type": "code",
   "execution_count": 16,
   "metadata": {},
   "outputs": [
    {
     "data": {
      "text/html": [
       "<html lang=\"en\">                                                     <head>                                                               <style>                                                              .sframe {                                                            font-size: 12px;                                                   font-family: HelveticaNeue;                                        border: 1px solid silver;                                        }                                                                  .sframe thead th {                                                   background: #F7F7F7;                                               font-family: HelveticaNeue-Medium;                                 font-size: 14px;                                                   line-height: 16.8px;                                               padding-top: 16px;                                                 padding-bottom: 16px;                                              padding-left: 10px;                                                padding-right: 38px;                                               border-top: 1px solid #E9E9E9;                                     border-bottom: 1px solid #E9E9E9;                                  white-space: nowrap;                                               overflow: hidden;                                                  text-overflow:ellipsis;                                            text-align:center;                                                 font-weight:normal;                                              }                                                                  .sframe tbody th {                                                   background: #FFFFFF;                                               text-align:left;                                                   font-weight:normal;                                                border-right: 1px solid #E9E9E9;                                 }                                                                  .sframe td {                                                         background: #FFFFFF;                                               padding-left: 10px;                                                padding-right: 38px;                                               padding-top: 14px;                                                 padding-bottom: 14px;                                              border-bottom: 1px solid #E9E9E9;                                  max-height: 0px;                                                   transition: max-height 5s ease-out;                                vertical-align: middle;                                            font-family: HelveticaNeue;                                        font-size: 12px;                                                   line-height: 16.8px;                                               background: #FFFFFF;                                             }                                                                  .sframe tr {                                                         padding-left: 10px;                                                padding-right: 38px;                                               padding-top: 14px;                                                 padding-bottom: 14px;                                              border-bottom: 1px solid #E9E9E9;                                  max-height: 0px;                                                   transition: max-height 5s ease-out;                                vertical-align: middle;                                            font-family: HelveticaNeue;                                        font-size: 12px;                                                   line-height: 16.8px;                                               background: #FFFFFF;                                             }                                                                  .sframe tr:hover {                                                   background: silver;                                              },                                                               </style>                                                         </head>                                                            <body>                                                               <h1>  </h1>                                             <table border=\"1\" class=\"dataframe sframe\">\n",
       "  <thead>\n",
       "    <tr style=\"text-align: right;\">\n",
       "      <th></th>\n",
       "      <th>SArray</th>\n",
       "    </tr>\n",
       "  </thead>\n",
       "  <tbody>\n",
       "    <tr>\n",
       "      <th>0</th>\n",
       "      <td><img src=\"data:image/png;base64,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\"/></td>\n",
       "    </tr>\n",
       "    <tr>\n",
       "      <th>1</th>\n",
       "      <td><img src=\"data:image/png;base64,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\"/></td>\n",
       "    </tr>\n",
       "    <tr>\n",
       "      <th>2</th>\n",
       "      <td><img src=\"data:image/png;base64,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\"/></td>\n",
       "    </tr>\n",
       "    <tr>\n",
       "      <th>3</th>\n",
       "      <td><img src=\"data:image/png;base64,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\"/></td>\n",
       "    </tr>\n",
       "    <tr>\n",
       "      <th>4</th>\n",
       "      <td><img src=\"data:image/png;base64,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\"/></td>\n",
       "    </tr>\n",
       "  </tbody>\n",
       "</table>                          </body>                                                          </html>"
      ],
      "text/plain": [
       "<IPython.core.display.HTML object>"
      ]
     },
     "metadata": {},
     "output_type": "display_data"
    }
   ],
   "source": [
    "cat_neighbors['image'].explore()"
   ]
  },
  {
   "cell_type": "markdown",
   "metadata": {},
   "source": [
    "# Find similar car images"
   ]
  },
  {
   "cell_type": "code",
   "execution_count": 18,
   "metadata": {},
   "outputs": [
    {
     "data": {
      "text/html": [
       "<html lang=\"en\">                                                     <head>                                                               <style>                                                              .sframe {                                                            font-size: 12px;                                                   font-family: HelveticaNeue;                                        border: 1px solid silver;                                        }                                                                  .sframe thead th {                                                   background: #F7F7F7;                                               font-family: HelveticaNeue-Medium;                                 font-size: 14px;                                                   line-height: 16.8px;                                               padding-top: 16px;                                                 padding-bottom: 16px;                                              padding-left: 10px;                                                padding-right: 38px;                                               border-top: 1px solid #E9E9E9;                                     border-bottom: 1px solid #E9E9E9;                                  white-space: nowrap;                                               overflow: hidden;                                                  text-overflow:ellipsis;                                            text-align:center;                                                 font-weight:normal;                                              }                                                                  .sframe tbody th {                                                   background: #FFFFFF;                                               text-align:left;                                                   font-weight:normal;                                                border-right: 1px solid #E9E9E9;                                 }                                                                  .sframe td {                                                         background: #FFFFFF;                                               padding-left: 10px;                                                padding-right: 38px;                                               padding-top: 14px;                                                 padding-bottom: 14px;                                              border-bottom: 1px solid #E9E9E9;                                  max-height: 0px;                                                   transition: max-height 5s ease-out;                                vertical-align: middle;                                            font-family: HelveticaNeue;                                        font-size: 12px;                                                   line-height: 16.8px;                                               background: #FFFFFF;                                             }                                                                  .sframe tr {                                                         padding-left: 10px;                                                padding-right: 38px;                                               padding-top: 14px;                                                 padding-bottom: 14px;                                              border-bottom: 1px solid #E9E9E9;                                  max-height: 0px;                                                   transition: max-height 5s ease-out;                                vertical-align: middle;                                            font-family: HelveticaNeue;                                        font-size: 12px;                                                   line-height: 16.8px;                                               background: #FFFFFF;                                             }                                                                  .sframe tr:hover {                                                   background: silver;                                              },                                                               </style>                                                         </head>                                                            <body>                                                               <h1>  </h1>                                             <table border=\"1\" class=\"dataframe sframe\">\n",
       "  <thead>\n",
       "    <tr style=\"text-align: right;\">\n",
       "      <th></th>\n",
       "      <th>SArray</th>\n",
       "    </tr>\n",
       "  </thead>\n",
       "  <tbody>\n",
       "    <tr>\n",
       "      <th>0</th>\n",
       "      <td><img src=\"data:image/png;base64,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\"/></td>\n",
       "    </tr>\n",
       "  </tbody>\n",
       "</table>                          </body>                                                          </html>"
      ],
      "text/plain": [
       "<IPython.core.display.HTML object>"
      ]
     },
     "metadata": {},
     "output_type": "display_data"
    }
   ],
   "source": [
    "car = image_train[8:9]\n",
    "car['image'].explore()"
   ]
  },
  {
   "cell_type": "code",
   "execution_count": 19,
   "metadata": {},
   "outputs": [
    {
     "data": {
      "text/html": [
       "<pre>Starting pairwise querying.</pre>"
      ],
      "text/plain": [
       "Starting pairwise querying."
      ]
     },
     "metadata": {},
     "output_type": "display_data"
    },
    {
     "data": {
      "text/html": [
       "<pre>+--------------+---------+-------------+--------------+</pre>"
      ],
      "text/plain": [
       "+--------------+---------+-------------+--------------+"
      ]
     },
     "metadata": {},
     "output_type": "display_data"
    },
    {
     "data": {
      "text/html": [
       "<pre>| Query points | # Pairs | % Complete. | Elapsed Time |</pre>"
      ],
      "text/plain": [
       "| Query points | # Pairs | % Complete. | Elapsed Time |"
      ]
     },
     "metadata": {},
     "output_type": "display_data"
    },
    {
     "data": {
      "text/html": [
       "<pre>+--------------+---------+-------------+--------------+</pre>"
      ],
      "text/plain": [
       "+--------------+---------+-------------+--------------+"
      ]
     },
     "metadata": {},
     "output_type": "display_data"
    },
    {
     "data": {
      "text/html": [
       "<pre>| 0            | 1       | 0.0498753   | 11.456ms     |</pre>"
      ],
      "text/plain": [
       "| 0            | 1       | 0.0498753   | 11.456ms     |"
      ]
     },
     "metadata": {},
     "output_type": "display_data"
    },
    {
     "data": {
      "text/html": [
       "<pre>| Done         |         | 100         | 73.02ms      |</pre>"
      ],
      "text/plain": [
       "| Done         |         | 100         | 73.02ms      |"
      ]
     },
     "metadata": {},
     "output_type": "display_data"
    },
    {
     "data": {
      "text/html": [
       "<pre>+--------------+---------+-------------+--------------+</pre>"
      ],
      "text/plain": [
       "+--------------+---------+-------------+--------------+"
      ]
     },
     "metadata": {},
     "output_type": "display_data"
    },
    {
     "data": {
      "text/html": [
       "<html lang=\"en\">                                                     <head>                                                               <style>                                                              .sframe {                                                            font-size: 12px;                                                   font-family: HelveticaNeue;                                        border: 1px solid silver;                                        }                                                                  .sframe thead th {                                                   background: #F7F7F7;                                               font-family: HelveticaNeue-Medium;                                 font-size: 14px;                                                   line-height: 16.8px;                                               padding-top: 16px;                                                 padding-bottom: 16px;                                              padding-left: 10px;                                                padding-right: 38px;                                               border-top: 1px solid #E9E9E9;                                     border-bottom: 1px solid #E9E9E9;                                  white-space: nowrap;                                               overflow: hidden;                                                  text-overflow:ellipsis;                                            text-align:center;                                                 font-weight:normal;                                              }                                                                  .sframe tbody th {                                                   background: #FFFFFF;                                               text-align:left;                                                   font-weight:normal;                                                border-right: 1px solid #E9E9E9;                                 }                                                                  .sframe td {                                                         background: #FFFFFF;                                               padding-left: 10px;                                                padding-right: 38px;                                               padding-top: 14px;                                                 padding-bottom: 14px;                                              border-bottom: 1px solid #E9E9E9;                                  max-height: 0px;                                                   transition: max-height 5s ease-out;                                vertical-align: middle;                                            font-family: HelveticaNeue;                                        font-size: 12px;                                                   line-height: 16.8px;                                               background: #FFFFFF;                                             }                                                                  .sframe tr {                                                         padding-left: 10px;                                                padding-right: 38px;                                               padding-top: 14px;                                                 padding-bottom: 14px;                                              border-bottom: 1px solid #E9E9E9;                                  max-height: 0px;                                                   transition: max-height 5s ease-out;                                vertical-align: middle;                                            font-family: HelveticaNeue;                                        font-size: 12px;                                                   line-height: 16.8px;                                               background: #FFFFFF;                                             }                                                                  .sframe tr:hover {                                                   background: silver;                                              },                                                               </style>                                                         </head>                                                            <body>                                                               <h1>  </h1>                                             <table border=\"1\" class=\"dataframe sframe\">\n",
       "  <thead>\n",
       "    <tr style=\"text-align: right;\">\n",
       "      <th></th>\n",
       "      <th>SArray</th>\n",
       "    </tr>\n",
       "  </thead>\n",
       "  <tbody>\n",
       "    <tr>\n",
       "      <th>0</th>\n",
       "      <td><img src=\"data:image/png;base64,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\"/></td>\n",
       "    </tr>\n",
       "    <tr>\n",
       "      <th>1</th>\n",
       "      <td><img src=\"data:image/png;base64,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\"/></td>\n",
       "    </tr>\n",
       "    <tr>\n",
       "      <th>2</th>\n",
       "      <td><img src=\"data:image/png;base64,iVBORw0KGgoAAAANSUhEUgAAACAAAAAgCAIAAAD8GO2jAAAJ1klEQVR4nAXBaW8c5QEA4PeeY2d2dta762N3vXbiXGASKq7ScvRDaYWQaAX92E9UrdSv/TPtP0CoQiqoolAKUTgCTUkbQkxInNiO7fV6r9ljdq737PPAbu8IE2KAQQgaIyFACNjGIAA1AhoYKLH8/Oon/aOTcZ5Nx30GisODBynXi4IsUsmMKLvoF6+8tP/o6KQ/wUjPp8Uzz/zYsmU0Gew+3IdHvZ4hCErjIAIJkAAoiYwGXBRKSYgJB/zqhx/YiLi1WrVczqcjwRdb588D7GJm28wwJL747OqTTz135/uHSha79x797q23mMPfe+/d3YM+0YhqBJlF5uO4N+idRqM4TpU0QggAkYJA6ELnRmjeWxwPHafmsiuXt7fOnZEaaAghlIovbNtCEAEDGbM3NzYLnudiZtlsrXmWKGgMgr3B8P23/3Z4fIQtAiGu1epamUWS90bjeRzhPOmsrinfthE4s1ZrdRry/g7QygAkjJb5Ikni8Xh8+coVyYtKsOR59mAUpUk2jGKCtMAK7n6/8/G1qy+9/LOXXn5xOp1JqQaDcXRvrzeIukd7K6715muvt7YvujacDI4PusdbrAklj6IJoBYyXCkJgFaKG6MtRqXkmJCV5bWFTomTZ0Ucf3ft2nhwejocfvDRRwCajY3Nu/d3j7sDLlSR83qzaYRab7WDqndasu/vfu/6Naq4EtAw2lwO49lEKR5NBp5b6g9PfN8p8ry51jE2JuOdH0aHRyxOmkvV27dv94b9LI/ffOM3ENFxNAGQAW2i4eiTf36cUrO1vT0Zj+exvvb5rXPNFZtihEyv10+S+LR/Ug4bEEgEEmM8ANUiKaR0iYhGuN9f5/wnnda45B+deKdHh3HvtH1xuwASQlhv1DCE+0fH+2//tXX2FqWUERi6VtVyKp4TDyY2M3nKa3W3uhRKaYBGcZwYns9OJplkxBhO5tOtZM4svChXLrO1kTZRmrUCr9OuF0Vqhw2mkOOdJ2UvlSpLk5JTWllp5CrX1DU5GQ0jEYNHOwdf/ev63kG3VA1f/PnLFkFEiKpnkWg8Od57uCKLenVJTQaOhCabDaLxavHULzfbyWx+uH8YzRMNVU6EU6kHlTDPk09u3LJtImShdf7s44+veT4VshhlOJrmRbpcq7B6RQHgkBL806u/bCO0ms/KVV9joqdxskhnjJY7Z1vNM8lsPpjMRkJOLMrDsrCrEliG0f50dtg/zbJ0peJVw6BRq6w1agyZBpN+XoTYha4jGn4KIXzzhZ8+UQ3Ck32fJz5zHYi5kkXJIXZQdSq2Q3OAhOfrRn0E9YiTQcznCmTEngOEMSMSxoqnutBYEaxXK87zrc7SrNDJAtXc2tY6UUtBt+AlxvQkSudcUMv1HAcgUoh03M0dbfuBpXgYljeWqhlk+2oSCX2Spv1cpshKsCc10tIyeQa17g353wdHlSULxcP2BG5DSOzVRnoyjgizqaUxKgzM5gkoCt8JPMwEELN5RJKExwu/Erph5azlLGOyUsIDpB9Mp/dhRvyw2mj0uyc6F7iAyZz3i0kpm1QAFks14nie1/Z3ewcFwUsQu9o4HGCtZotpqhENbItZCCHA80X/JJuMStWqX1kywlgGhxVWLvi9tHciJqkpuEnceRZMwDpFl1ZXrmxsDPmCbDbbPgm++fqqWwuT0XBNK4dgADSAhmtVJJAy12AsjSYISC2i0dDl3A1CnvKK0c9C0GT+zfFgXAhq9DLLGq7jOCXjqv/17334zb/JJD6a6uFudDzN3e3lZTNd8DirYWxTZLksxvSmlDShnVoQToYeYLDEeF64ti47jhQp5vwiUkGJTWwLuiVji2E8+3Z0cufOabfILM8nD7q3k7hoXVgrcn3t4PDZjXPIUslgVGfWWq2+d9p9Z+/08sWnjxf5KyXPHA11ltjVoOyXgzPtB4/uyTHXi7EVVg0i/z3t/vvW3n73NJqmygBis1+98SIRSkOKmu01CDFB5Mu7t5+ota9sdvZ7g3mUjlO1deH8pR//qPvo/u18vh0QNI9Gs2Ks53F0/OWX1/woCTubtlN6//q17/YODAAQINsNELU6Zzu/fvN1IhTAlAKiueDhamB7j+/cedB9OHtq80KR8hm2zj9+acITXvH3ZrJaLJqxRFJNkoXTaLBYVJ1yYZdnxO8LCDC1GXK9IAjrju//4Y+/T/kcvvDb5yA0lk20VloabVDG9ex0xnuLM5WVTqtdaq1+t7c3mExrJf9plG8dn7iajlotSh1x565TrXwlwefTRaHUkoVXOqsb5y9snD2/0mrOFtOde/8hnHNjpAHEGOU7ljICucwrL4uwvHPz3hyqS0FJa80EFIk6ZKRsheVczLIUTaOtejkvuzW3/MSWU63XH1upr250rHKlP4yuX//i088+Wd9aIr7rQmRKng2ABrIQKicMAGP8ZffyTy+NThMD1MpacyNEDqbRLBoh++evvpIEDINiWXLkVy/VGlm9ES+SpNe7t7P71dc3v/v+7mgygAwIMCEEGYQR1AAhJA0SAkAjHZtaHvOrfr26pGJeqq2CIqYM9RbT7mzSHPY26o8ZgGcYGa6SweDRDz/879a3N6/fOH54aDSkjssYFSqL5zHBCCEAFZdCa0gpswOgJIHEr5SlFq6ASWrWt7bshrhx/dNwvZYl1p/ffUf8hS+mU4CVJhQBKbjgBkBACSHMtYVWggvLZWe2zpJM5hBAgpBW2iIYAOg6DmMESc0g9AI3S/IKM6+8/ppjWQfDoyxdqElx4+CGZZVzkXJRYGAQxAwiZZAGJCu4JsIJrO2nL22eayNulIZGKGmg0UoYLQE0AJgkjmUukqJIZHx8cJda4Nnnf9IIwkZYrYQhh9xfrlx68nKp7CtMOMQcQoWMAgUpgXq70j6/XG8HCmWEYKylopi4jmMAhBhxJTXQBEENjcKAufSot3f1y38sVVapZ3ItMjmVOB8v+naZNTubJyfd+WxqjCQWLQW4s9VcP9cCliEuwNQQDCC1HUqIbdsKwqzIjZRpJlzH0tBIrWnJog7aefDfsFxN8zwaR/NidOaxdjxfPOo9oMQTmmPX2K7TWl9rtJxqo0wsyIHKRQKQQyihRmspRA6AhDCXnGJkgEnS1ABHag1NUSkHAiyOBuOi4MbA9a3l1pmVJM6Oj/vD/tTzQz9w3BKrVsvU0gpIjQzn0iCsNSRAKsqo1lpIqSBklCrBIUTGaKWU1IrnhZDctVltqYoyDQxMMy5yYagMG6VK3S15DkSKWUipRS4gRMRixHVsAzElmNiWZQDQQAMIlZQQAgIRhEYrIHJuMEaYGG0IIXmeUkqBQT4pKZNkXDCXuC6VigtRQI0gAtBQQixKbC6UlAJa5v/gje2Q+sQvMAAAAABJRU5ErkJggg==\"/></td>\n",
       "    </tr>\n",
       "    <tr>\n",
       "      <th>3</th>\n",
       "      <td><img src=\"data:image/png;base64,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\"/></td>\n",
       "    </tr>\n",
       "    <tr>\n",
       "      <th>4</th>\n",
       "      <td><img src=\"data:image/png;base64,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\"/></td>\n",
       "    </tr>\n",
       "  </tbody>\n",
       "</table>                          </body>                                                          </html>"
      ],
      "text/plain": [
       "<IPython.core.display.HTML object>"
      ]
     },
     "metadata": {},
     "output_type": "display_data"
    }
   ],
   "source": [
    "get_images_from_ids(knn_model.query(car))['image'].explore()"
   ]
  },
  {
   "cell_type": "markdown",
   "metadata": {},
   "source": [
    "# Just for fun, show similar images using lambda"
   ]
  },
  {
   "cell_type": "code",
   "execution_count": 22,
   "metadata": {},
   "outputs": [],
   "source": [
    "show_neighbors = lambda i: get_images_from_ids(knn_model.query(image_train[i:i+1]))['image'].explore()"
   ]
  },
  {
   "cell_type": "code",
   "execution_count": 23,
   "metadata": {},
   "outputs": [
    {
     "data": {
      "text/html": [
       "<pre>Starting pairwise querying.</pre>"
      ],
      "text/plain": [
       "Starting pairwise querying."
      ]
     },
     "metadata": {},
     "output_type": "display_data"
    },
    {
     "data": {
      "text/html": [
       "<pre>+--------------+---------+-------------+--------------+</pre>"
      ],
      "text/plain": [
       "+--------------+---------+-------------+--------------+"
      ]
     },
     "metadata": {},
     "output_type": "display_data"
    },
    {
     "data": {
      "text/html": [
       "<pre>| Query points | # Pairs | % Complete. | Elapsed Time |</pre>"
      ],
      "text/plain": [
       "| Query points | # Pairs | % Complete. | Elapsed Time |"
      ]
     },
     "metadata": {},
     "output_type": "display_data"
    },
    {
     "data": {
      "text/html": [
       "<pre>+--------------+---------+-------------+--------------+</pre>"
      ],
      "text/plain": [
       "+--------------+---------+-------------+--------------+"
      ]
     },
     "metadata": {},
     "output_type": "display_data"
    },
    {
     "data": {
      "text/html": [
       "<pre>| 0            | 1       | 0.0498753   | 14.261ms     |</pre>"
      ],
      "text/plain": [
       "| 0            | 1       | 0.0498753   | 14.261ms     |"
      ]
     },
     "metadata": {},
     "output_type": "display_data"
    },
    {
     "data": {
      "text/html": [
       "<pre>| Done         |         | 100         | 79.184ms     |</pre>"
      ],
      "text/plain": [
       "| Done         |         | 100         | 79.184ms     |"
      ]
     },
     "metadata": {},
     "output_type": "display_data"
    },
    {
     "data": {
      "text/html": [
       "<pre>+--------------+---------+-------------+--------------+</pre>"
      ],
      "text/plain": [
       "+--------------+---------+-------------+--------------+"
      ]
     },
     "metadata": {},
     "output_type": "display_data"
    },
    {
     "data": {
      "text/html": [
       "<html lang=\"en\">                                                     <head>                                                               <style>                                                              .sframe {                                                            font-size: 12px;                                                   font-family: HelveticaNeue;                                        border: 1px solid silver;                                        }                                                                  .sframe thead th {                                                   background: #F7F7F7;                                               font-family: HelveticaNeue-Medium;                                 font-size: 14px;                                                   line-height: 16.8px;                                               padding-top: 16px;                                                 padding-bottom: 16px;                                              padding-left: 10px;                                                padding-right: 38px;                                               border-top: 1px solid #E9E9E9;                                     border-bottom: 1px solid #E9E9E9;                                  white-space: nowrap;                                               overflow: hidden;                                                  text-overflow:ellipsis;                                            text-align:center;                                                 font-weight:normal;                                              }                                                                  .sframe tbody th {                                                   background: #FFFFFF;                                               text-align:left;                                                   font-weight:normal;                                                border-right: 1px solid #E9E9E9;                                 }                                                                  .sframe td {                                                         background: #FFFFFF;                                               padding-left: 10px;                                                padding-right: 38px;                                               padding-top: 14px;                                                 padding-bottom: 14px;                                              border-bottom: 1px solid #E9E9E9;                                  max-height: 0px;                                                   transition: max-height 5s ease-out;                                vertical-align: middle;                                            font-family: HelveticaNeue;                                        font-size: 12px;                                                   line-height: 16.8px;                                               background: #FFFFFF;                                             }                                                                  .sframe tr {                                                         padding-left: 10px;                                                padding-right: 38px;                                               padding-top: 14px;                                                 padding-bottom: 14px;                                              border-bottom: 1px solid #E9E9E9;                                  max-height: 0px;                                                   transition: max-height 5s ease-out;                                vertical-align: middle;                                            font-family: HelveticaNeue;                                        font-size: 12px;                                                   line-height: 16.8px;                                               background: #FFFFFF;                                             }                                                                  .sframe tr:hover {                                                   background: silver;                                              },                                                               </style>                                                         </head>                                                            <body>                                                               <h1>  </h1>                                             <table border=\"1\" class=\"dataframe sframe\">\n",
       "  <thead>\n",
       "    <tr style=\"text-align: right;\">\n",
       "      <th></th>\n",
       "      <th>SArray</th>\n",
       "    </tr>\n",
       "  </thead>\n",
       "  <tbody>\n",
       "    <tr>\n",
       "      <th>0</th>\n",
       "      <td><img src=\"data:image/png;base64,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\"/></td>\n",
       "    </tr>\n",
       "    <tr>\n",
       "      <th>1</th>\n",
       "      <td><img src=\"data:image/png;base64,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\"/></td>\n",
       "    </tr>\n",
       "    <tr>\n",
       "      <th>2</th>\n",
       "      <td><img src=\"data:image/png;base64,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\"/></td>\n",
       "    </tr>\n",
       "    <tr>\n",
       "      <th>3</th>\n",
       "      <td><img src=\"data:image/png;base64,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\"/></td>\n",
       "    </tr>\n",
       "    <tr>\n",
       "      <th>4</th>\n",
       "      <td><img src=\"data:image/png;base64,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\"/></td>\n",
       "    </tr>\n",
       "  </tbody>\n",
       "</table>                          </body>                                                          </html>"
      ],
      "text/plain": [
       "<IPython.core.display.HTML object>"
      ]
     },
     "metadata": {},
     "output_type": "display_data"
    }
   ],
   "source": [
    "show_neighbors(8)"
   ]
  },
  {
   "cell_type": "code",
   "execution_count": 24,
   "metadata": {},
   "outputs": [
    {
     "data": {
      "text/html": [
       "<pre>Starting pairwise querying.</pre>"
      ],
      "text/plain": [
       "Starting pairwise querying."
      ]
     },
     "metadata": {},
     "output_type": "display_data"
    },
    {
     "data": {
      "text/html": [
       "<pre>+--------------+---------+-------------+--------------+</pre>"
      ],
      "text/plain": [
       "+--------------+---------+-------------+--------------+"
      ]
     },
     "metadata": {},
     "output_type": "display_data"
    },
    {
     "data": {
      "text/html": [
       "<pre>| Query points | # Pairs | % Complete. | Elapsed Time |</pre>"
      ],
      "text/plain": [
       "| Query points | # Pairs | % Complete. | Elapsed Time |"
      ]
     },
     "metadata": {},
     "output_type": "display_data"
    },
    {
     "data": {
      "text/html": [
       "<pre>+--------------+---------+-------------+--------------+</pre>"
      ],
      "text/plain": [
       "+--------------+---------+-------------+--------------+"
      ]
     },
     "metadata": {},
     "output_type": "display_data"
    },
    {
     "data": {
      "text/html": [
       "<pre>| 0            | 1       | 0.0498753   | 12.818ms     |</pre>"
      ],
      "text/plain": [
       "| 0            | 1       | 0.0498753   | 12.818ms     |"
      ]
     },
     "metadata": {},
     "output_type": "display_data"
    },
    {
     "data": {
      "text/html": [
       "<pre>| Done         |         | 100         | 75.237ms     |</pre>"
      ],
      "text/plain": [
       "| Done         |         | 100         | 75.237ms     |"
      ]
     },
     "metadata": {},
     "output_type": "display_data"
    },
    {
     "data": {
      "text/html": [
       "<pre>+--------------+---------+-------------+--------------+</pre>"
      ],
      "text/plain": [
       "+--------------+---------+-------------+--------------+"
      ]
     },
     "metadata": {},
     "output_type": "display_data"
    },
    {
     "data": {
      "text/html": [
       "<html lang=\"en\">                                                     <head>                                                               <style>                                                              .sframe {                                                            font-size: 12px;                                                   font-family: HelveticaNeue;                                        border: 1px solid silver;                                        }                                                                  .sframe thead th {                                                   background: #F7F7F7;                                               font-family: HelveticaNeue-Medium;                                 font-size: 14px;                                                   line-height: 16.8px;                                               padding-top: 16px;                                                 padding-bottom: 16px;                                              padding-left: 10px;                                                padding-right: 38px;                                               border-top: 1px solid #E9E9E9;                                     border-bottom: 1px solid #E9E9E9;                                  white-space: nowrap;                                               overflow: hidden;                                                  text-overflow:ellipsis;                                            text-align:center;                                                 font-weight:normal;                                              }                                                                  .sframe tbody th {                                                   background: #FFFFFF;                                               text-align:left;                                                   font-weight:normal;                                                border-right: 1px solid #E9E9E9;                                 }                                                                  .sframe td {                                                         background: #FFFFFF;                                               padding-left: 10px;                                                padding-right: 38px;                                               padding-top: 14px;                                                 padding-bottom: 14px;                                              border-bottom: 1px solid #E9E9E9;                                  max-height: 0px;                                                   transition: max-height 5s ease-out;                                vertical-align: middle;                                            font-family: HelveticaNeue;                                        font-size: 12px;                                                   line-height: 16.8px;                                               background: #FFFFFF;                                             }                                                                  .sframe tr {                                                         padding-left: 10px;                                                padding-right: 38px;                                               padding-top: 14px;                                                 padding-bottom: 14px;                                              border-bottom: 1px solid #E9E9E9;                                  max-height: 0px;                                                   transition: max-height 5s ease-out;                                vertical-align: middle;                                            font-family: HelveticaNeue;                                        font-size: 12px;                                                   line-height: 16.8px;                                               background: #FFFFFF;                                             }                                                                  .sframe tr:hover {                                                   background: silver;                                              },                                                               </style>                                                         </head>                                                            <body>                                                               <h1>  </h1>                                             <table border=\"1\" class=\"dataframe sframe\">\n",
       "  <thead>\n",
       "    <tr style=\"text-align: right;\">\n",
       "      <th></th>\n",
       "      <th>SArray</th>\n",
       "    </tr>\n",
       "  </thead>\n",
       "  <tbody>\n",
       "    <tr>\n",
       "      <th>0</th>\n",
       "      <td><img src=\"data:image/png;base64,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\"/></td>\n",
       "    </tr>\n",
       "    <tr>\n",
       "      <th>1</th>\n",
       "      <td><img src=\"data:image/png;base64,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\"/></td>\n",
       "    </tr>\n",
       "    <tr>\n",
       "      <th>2</th>\n",
       "      <td><img src=\"data:image/png;base64,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\"/></td>\n",
       "    </tr>\n",
       "    <tr>\n",
       "      <th>3</th>\n",
       "      <td><img src=\"data:image/png;base64,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\"/></td>\n",
       "    </tr>\n",
       "    <tr>\n",
       "      <th>4</th>\n",
       "      <td><img src=\"data:image/png;base64,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\"/></td>\n",
       "    </tr>\n",
       "  </tbody>\n",
       "</table>                          </body>                                                          </html>"
      ],
      "text/plain": [
       "<IPython.core.display.HTML object>"
      ]
     },
     "metadata": {},
     "output_type": "display_data"
    }
   ],
   "source": [
    "show_neighbors(26)"
   ]
  },
  {
   "cell_type": "code",
   "execution_count": 25,
   "metadata": {},
   "outputs": [
    {
     "data": {
      "text/html": [
       "<pre>Starting pairwise querying.</pre>"
      ],
      "text/plain": [
       "Starting pairwise querying."
      ]
     },
     "metadata": {},
     "output_type": "display_data"
    },
    {
     "data": {
      "text/html": [
       "<pre>+--------------+---------+-------------+--------------+</pre>"
      ],
      "text/plain": [
       "+--------------+---------+-------------+--------------+"
      ]
     },
     "metadata": {},
     "output_type": "display_data"
    },
    {
     "data": {
      "text/html": [
       "<pre>| Query points | # Pairs | % Complete. | Elapsed Time |</pre>"
      ],
      "text/plain": [
       "| Query points | # Pairs | % Complete. | Elapsed Time |"
      ]
     },
     "metadata": {},
     "output_type": "display_data"
    },
    {
     "data": {
      "text/html": [
       "<pre>+--------------+---------+-------------+--------------+</pre>"
      ],
      "text/plain": [
       "+--------------+---------+-------------+--------------+"
      ]
     },
     "metadata": {},
     "output_type": "display_data"
    },
    {
     "data": {
      "text/html": [
       "<pre>| 0            | 1       | 0.0498753   | 10.107ms     |</pre>"
      ],
      "text/plain": [
       "| 0            | 1       | 0.0498753   | 10.107ms     |"
      ]
     },
     "metadata": {},
     "output_type": "display_data"
    },
    {
     "data": {
      "text/html": [
       "<pre>| Done         |         | 100         | 71.467ms     |</pre>"
      ],
      "text/plain": [
       "| Done         |         | 100         | 71.467ms     |"
      ]
     },
     "metadata": {},
     "output_type": "display_data"
    },
    {
     "data": {
      "text/html": [
       "<pre>+--------------+---------+-------------+--------------+</pre>"
      ],
      "text/plain": [
       "+--------------+---------+-------------+--------------+"
      ]
     },
     "metadata": {},
     "output_type": "display_data"
    },
    {
     "data": {
      "text/html": [
       "<html lang=\"en\">                                                     <head>                                                               <style>                                                              .sframe {                                                            font-size: 12px;                                                   font-family: HelveticaNeue;                                        border: 1px solid silver;                                        }                                                                  .sframe thead th {                                                   background: #F7F7F7;                                               font-family: HelveticaNeue-Medium;                                 font-size: 14px;                                                   line-height: 16.8px;                                               padding-top: 16px;                                                 padding-bottom: 16px;                                              padding-left: 10px;                                                padding-right: 38px;                                               border-top: 1px solid #E9E9E9;                                     border-bottom: 1px solid #E9E9E9;                                  white-space: nowrap;                                               overflow: hidden;                                                  text-overflow:ellipsis;                                            text-align:center;                                                 font-weight:normal;                                              }                                                                  .sframe tbody th {                                                   background: #FFFFFF;                                               text-align:left;                                                   font-weight:normal;                                                border-right: 1px solid #E9E9E9;                                 }                                                                  .sframe td {                                                         background: #FFFFFF;                                               padding-left: 10px;                                                padding-right: 38px;                                               padding-top: 14px;                                                 padding-bottom: 14px;                                              border-bottom: 1px solid #E9E9E9;                                  max-height: 0px;                                                   transition: max-height 5s ease-out;                                vertical-align: middle;                                            font-family: HelveticaNeue;                                        font-size: 12px;                                                   line-height: 16.8px;                                               background: #FFFFFF;                                             }                                                                  .sframe tr {                                                         padding-left: 10px;                                                padding-right: 38px;                                               padding-top: 14px;                                                 padding-bottom: 14px;                                              border-bottom: 1px solid #E9E9E9;                                  max-height: 0px;                                                   transition: max-height 5s ease-out;                                vertical-align: middle;                                            font-family: HelveticaNeue;                                        font-size: 12px;                                                   line-height: 16.8px;                                               background: #FFFFFF;                                             }                                                                  .sframe tr:hover {                                                   background: silver;                                              },                                                               </style>                                                         </head>                                                            <body>                                                               <h1>  </h1>                                             <table border=\"1\" class=\"dataframe sframe\">\n",
       "  <thead>\n",
       "    <tr style=\"text-align: right;\">\n",
       "      <th></th>\n",
       "      <th>SArray</th>\n",
       "    </tr>\n",
       "  </thead>\n",
       "  <tbody>\n",
       "    <tr>\n",
       "      <th>0</th>\n",
       "      <td><img src=\"data:image/png;base64,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\"/></td>\n",
       "    </tr>\n",
       "    <tr>\n",
       "      <th>1</th>\n",
       "      <td><img src=\"data:image/png;base64,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\"/></td>\n",
       "    </tr>\n",
       "    <tr>\n",
       "      <th>2</th>\n",
       "      <td><img src=\"data:image/png;base64,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\"/></td>\n",
       "    </tr>\n",
       "    <tr>\n",
       "      <th>3</th>\n",
       "      <td><img src=\"data:image/png;base64,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\"/></td>\n",
       "    </tr>\n",
       "    <tr>\n",
       "      <th>4</th>\n",
       "      <td><img src=\"data:image/png;base64,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\"/></td>\n",
       "    </tr>\n",
       "  </tbody>\n",
       "</table>                          </body>                                                          </html>"
      ],
      "text/plain": [
       "<IPython.core.display.HTML object>"
      ]
     },
     "metadata": {},
     "output_type": "display_data"
    }
   ],
   "source": [
    "show_neighbors(1675)"
   ]
  },
  {
   "cell_type": "code",
   "execution_count": null,
   "metadata": {},
   "outputs": [],
   "source": []
  }
 ],
 "metadata": {
  "kernelspec": {
   "display_name": "Python 3",
   "language": "python",
   "name": "python3"
  },
  "language_info": {
   "codemirror_mode": {
    "name": "ipython",
    "version": 3
   },
   "file_extension": ".py",
   "mimetype": "text/x-python",
   "name": "python",
   "nbconvert_exporter": "python",
   "pygments_lexer": "ipython3",
   "version": "3.6.9"
  }
 },
 "nbformat": 4,
 "nbformat_minor": 4
}
